{
 "cells": [
  {
   "cell_type": "code",
   "execution_count": null,
   "id": "5d7665ed-2124-4773-b8db-5f88cd88ada9",
   "metadata": {},
   "outputs": [],
   "source": [
    "import gzip\n",
    "import pathlib\n",
    "import shutil\n",
    "\n",
    "import requests\n",
    "\n",
    "\n",
    "def download_data(url, data_dir=\"data\", unarchive=False, clobber=False):\n",
    "    data_dir = pathlib.Path(data_dir)\n",
    "    data_dir.mkdir(parents=True, exist_ok=True)\n",
    "    local_filename = data_dir / url.split('/')[-1]\n",
    "    if (local_filename.exists() and clobber) or not local_filename.exists():\n",
    "        with requests.get(url, stream=True) as rstream:\n",
    "            with local_filename.open(\"wb\") as f:\n",
    "                shutil.copyfileobj(rstream.raw, f)\n",
    "\n",
    "    if unarchive:\n",
    "        local_filename_unarchived = data_dir / local_filename.stem\n",
    "        if (\n",
    "            local_filename_unarchived.exists() and clobber\n",
    "        ) and not local_filename_unarchived.exists():\n",
    "            with gzip.open(local_filename, \"rb\") as fin:\n",
    "                with local_filename_unarchived.open(\"wb\") as fout:\n",
    "                    shutil.copyfileobj(fin, fout)\n",
    "        return str(local_filename_unarchived)\n",
    "    return local_filename"
   ]
  },
  {
   "cell_type": "code",
   "execution_count": null,
   "id": "d8c529ad-183e-4c23-ac2f-ea41bbc6950c",
   "metadata": {},
   "outputs": [],
   "source": [
    "%%time\n",
    "\n",
    "urls = [\n",
    "    (\"http://download.ecmwf.int/test-data/cfgrib/era5-levels-members.grib\", False),\n",
    "    (\"https://psl.noaa.gov/thredds/fileServer/Datasets/noaa.oisst.v2/sst.mnmean.nc\", False),\n",
    "    (\n",
    "        \"http://esgf-data1.llnl.gov/thredds/fileServer/css03_data/CMIP6/CMIP/NCAR/CESM2/historical/r11i1p1f1/Amon/tas/gn/v20190514/tas_Amon_CESM2_historical_r11i1p1f1_gn_200001-201412.nc\",\n",
    "        False,\n",
    "    ),\n",
    "    (\n",
    "        \"http://esgf-data1.llnl.gov/thredds/fileServer/css03_data/CMIP6/CMIP/NCAR/CESM2/historical/r11i1p1f1/Amon/ta/gn/v20190514/ta_Amon_CESM2_historical_r11i1p1f1_gn_200001-201412.nc\",\n",
    "        False,\n",
    "    ),\n",
    "    (\n",
    "        \"http://esgf-data1.llnl.gov/thredds/fileServer/css03_data/CMIP6/CMIP/NCAR/CESM2/historical/r11i1p1f1/Ofx/areacello/gr/v20190514/areacello_Ofx_CESM2_historical_r11i1p1f1_gr.nc\",\n",
    "        False,\n",
    "    ),\n",
    "    (\n",
    "        \"http://esgf-data1.llnl.gov/thredds/fileServer/css03_data/CMIP6/CMIP/NCAR/CESM2/historical/r11i1p1f1/Omon/tos/gr/v20190514/tos_Omon_CESM2_historical_r11i1p1f1_gr_200001-201412.nc\",\n",
    "        False,\n",
    "    ),\n",
    "    (\n",
    "        \"http://esgf-data1.llnl.gov/thredds/fileServer/css03_data/CMIP6/CMIP/NCAR/CESM2/historical/r9i1p1f1/Omon/tos/gr/v20190311/tos_Omon_CESM2_historical_r9i1p1f1_gr_200001-201412.nc\",\n",
    "        False,\n",
    "    ),\n",
    "    (\n",
    "        \"http://esgf-data1.llnl.gov/thredds/fileServer/css03_data/CMIP6/CMIP/NCAR/CESM2/historical/r7i1p1f1/Omon/tos/gr/v20190311/tos_Omon_CESM2_historical_r7i1p1f1_gr_200001-201412.nc\",\n",
    "        False,\n",
    "    ),\n",
    "    (\n",
    "        \"http://esgf-data1.llnl.gov/thredds/fileServer/css03_data/CMIP6/CMIP/NCAR/CESM2/historical/r8i1p1f1/Omon/tos/gr/v20190311/tos_Omon_CESM2_historical_r8i1p1f1_gr_200001-201412.nc\",\n",
    "        False,\n",
    "    ),\n",
    "]\n",
    "for url, unarchive in urls:\n",
    "    download_data(url, unarchive=unarchive)"
   ]
  },
  {
   "cell_type": "code",
   "execution_count": null,
   "id": "56d6f41f-7f98-4c2a-828c-4ae420cabe83",
   "metadata": {},
   "outputs": [],
   "source": [
    "%load_ext watermark\n",
    "%watermark --time --python --updated --iversion"
   ]
  }
 ],
 "metadata": {
  "kernelspec": {
   "display_name": "Python 3 (ipykernel)",
   "language": "python",
   "name": "python3"
  },
  "language_info": {
   "codemirror_mode": {
    "name": "ipython",
    "version": 3
   },
   "file_extension": ".py",
   "mimetype": "text/x-python",
   "name": "python",
   "nbconvert_exporter": "python",
   "pygments_lexer": "ipython3",
   "version": "3.9.6"
  }
 },
 "nbformat": 4,
 "nbformat_minor": 5
}
